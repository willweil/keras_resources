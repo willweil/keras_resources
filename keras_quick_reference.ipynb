{
 "cells": [
  {
   "cell_type": "markdown",
   "metadata": {},
   "source": [
    "## Keras Quick Reference\n",
    "\n",
    "- Official document: https://keras.io/layers/normalization/\n",
    "- Reference 1: https://machinelearningmastery.com/introduction-python-deep-learning-library-keras/\n",
    "\n",
    "**Steps to build neural network with Keras**:\n",
    "1. Construct Model\n",
    "2. Compile Model\n",
    "3. Fit Model\n",
    "4. Evaluate Model"
   ]
  },
  {
   "cell_type": "code",
   "execution_count": 9,
   "metadata": {},
   "outputs": [],
   "source": [
    "import numpy as np\n",
    "from keras import backend\n",
    "from keras.models import Sequential\n",
    "from keras.layers import Dense\n",
    "import keras\n",
    "import tensorflow"
   ]
  },
  {
   "cell_type": "code",
   "execution_count": 7,
   "metadata": {},
   "outputs": [],
   "source": [
    "print(backend._BACKEND) # check backend"
   ]
  },
  {
   "cell_type": "code",
   "execution_count": 10,
   "metadata": {},
   "outputs": [],
   "source": [
    "np.random.seed(123)  # set random seed for repeatibility"
   ]
  },
  {
   "cell_type": "markdown",
   "metadata": {
    "collapsed": true
   },
   "source": [
    "## Load data"
   ]
  },
  {
   "cell_type": "code",
   "execution_count": 15,
   "metadata": {},
   "outputs": [],
   "source": [
    "# load pima indians dataset\n",
    "dataset = np.loadtxt(\"data/pima-indians-diabetes.csv\", delimiter=\",\")\n",
    "# split into input (X) and output (Y) variables\n",
    "X = dataset[:,0:8]\n",
    "Y = dataset[:,8]"
   ]
  },
  {
   "cell_type": "code",
   "execution_count": 26,
   "metadata": {},
   "outputs": [
    {
     "name": "stdout",
     "output_type": "stream",
     "text": [
      "X.shape: (768, 8)\n",
      "Y.shape: (768,)\n"
     ]
    }
   ],
   "source": [
    "print(\"X.shape:\", X.shape)\n",
    "print(\"Y.shape:\", Y.shape)"
   ]
  },
  {
   "cell_type": "code",
   "execution_count": 20,
   "metadata": {},
   "outputs": [
    {
     "data": {
      "text/plain": [
       "array([[   6.   ,  148.   ,   72.   ,   35.   ,    0.   ,   33.6  ,\n",
       "           0.627,   50.   ],\n",
       "       [   1.   ,   85.   ,   66.   ,   29.   ,    0.   ,   26.6  ,\n",
       "           0.351,   31.   ]])"
      ]
     },
     "execution_count": 20,
     "metadata": {},
     "output_type": "execute_result"
    }
   ],
   "source": [
    "X[:2]"
   ]
  },
  {
   "cell_type": "markdown",
   "metadata": {
    "collapsed": true
   },
   "source": [
    "## Construct the neural network"
   ]
  },
  {
   "cell_type": "code",
   "execution_count": 21,
   "metadata": {},
   "outputs": [],
   "source": [
    "# construct a model\n",
    "model = Sequential()\n",
    "model.add(Dense(12, input_dim=8, activation='relu'))\n",
    "model.add(Dense(8, activation='relu'))\n",
    "model.add(Dense(1, activation='sigmoid'))"
   ]
  },
  {
   "cell_type": "markdown",
   "metadata": {},
   "source": [
    "## Compile model"
   ]
  },
  {
   "cell_type": "code",
   "execution_count": 23,
   "metadata": {},
   "outputs": [],
   "source": [
    "model.compile(loss='binary_crossentropy',\n",
    "              optimizer='adam',\n",
    "              metrics=['accuracy'])"
   ]
  },
  {
   "cell_type": "markdown",
   "metadata": {},
   "source": [
    "## Fit model"
   ]
  },
  {
   "cell_type": "code",
   "execution_count": 35,
   "metadata": {
    "scrolled": true
   },
   "outputs": [
    {
     "name": "stdout",
     "output_type": "stream",
     "text": [
      "Epoch 1/20\n",
      "768/768 [==============================] - 0s 111us/step - loss: 0.4424 - acc: 0.7839\n",
      "Epoch 2/20\n",
      "768/768 [==============================] - 0s 96us/step - loss: 0.4638 - acc: 0.7773\n",
      "Epoch 3/20\n",
      "768/768 [==============================] - 0s 96us/step - loss: 0.4371 - acc: 0.7904\n",
      "Epoch 4/20\n",
      "768/768 [==============================] - 0s 100us/step - loss: 0.4379 - acc: 0.7956\n",
      "Epoch 5/20\n",
      "768/768 [==============================] - 0s 100us/step - loss: 0.4439 - acc: 0.7812\n",
      "Epoch 6/20\n",
      "768/768 [==============================] - 0s 98us/step - loss: 0.4476 - acc: 0.7904\n",
      "Epoch 7/20\n",
      "768/768 [==============================] - 0s 98us/step - loss: 0.4493 - acc: 0.7891\n",
      "Epoch 8/20\n",
      "768/768 [==============================] - 0s 109us/step - loss: 0.4464 - acc: 0.7799\n",
      "Epoch 9/20\n",
      "768/768 [==============================] - 0s 103us/step - loss: 0.4355 - acc: 0.7852\n",
      "Epoch 10/20\n",
      "768/768 [==============================] - 0s 102us/step - loss: 0.4447 - acc: 0.7865\n",
      "Epoch 11/20\n",
      "768/768 [==============================] - 0s 97us/step - loss: 0.4565 - acc: 0.7826\n",
      "Epoch 12/20\n",
      "768/768 [==============================] - 0s 95us/step - loss: 0.4353 - acc: 0.7891\n",
      "Epoch 13/20\n",
      "768/768 [==============================] - 0s 94us/step - loss: 0.4423 - acc: 0.7799\n",
      "Epoch 14/20\n",
      "768/768 [==============================] - 0s 115us/step - loss: 0.4435 - acc: 0.7865\n",
      "Epoch 15/20\n",
      "768/768 [==============================] - 0s 99us/step - loss: 0.4348 - acc: 0.7839\n",
      "Epoch 16/20\n",
      "768/768 [==============================] - 0s 94us/step - loss: 0.4436 - acc: 0.7865\n",
      "Epoch 17/20\n",
      "768/768 [==============================] - 0s 103us/step - loss: 0.4444 - acc: 0.7878\n",
      "Epoch 18/20\n",
      "768/768 [==============================] - 0s 102us/step - loss: 0.4350 - acc: 0.7917\n",
      "Epoch 19/20\n",
      "768/768 [==============================] - 0s 101us/step - loss: 0.4476 - acc: 0.7826\n",
      "Epoch 20/20\n",
      "768/768 [==============================] - 0s 97us/step - loss: 0.4484 - acc: 0.7852\n"
     ]
    },
    {
     "data": {
      "text/plain": [
       "<keras.callbacks.History at 0x1ddc34d04a8>"
      ]
     },
     "execution_count": 35,
     "metadata": {},
     "output_type": "execute_result"
    }
   ],
   "source": [
    "model.fit(X, Y, epochs=20, batch_size=20, verbose=1)"
   ]
  },
  {
   "cell_type": "markdown",
   "metadata": {},
   "source": [
    "## Evaluate model"
   ]
  },
  {
   "cell_type": "code",
   "execution_count": 31,
   "metadata": {},
   "outputs": [
    {
     "name": "stdout",
     "output_type": "stream",
     "text": [
      "768/768 [==============================] - 0s 90us/step\n",
      "acc 78.3854166667\n"
     ]
    }
   ],
   "source": [
    "scores = model.evaluate(X, Y)\n",
    "print(model.metrics_names[1], scores[1]*100)"
   ]
  },
  {
   "cell_type": "markdown",
   "metadata": {},
   "source": [
    "## Predict on new data"
   ]
  },
  {
   "cell_type": "code",
   "execution_count": 36,
   "metadata": {},
   "outputs": [],
   "source": [
    "predictions = model.predict(X)"
   ]
  },
  {
   "cell_type": "code",
   "execution_count": 41,
   "metadata": {},
   "outputs": [],
   "source": [
    "predicted_class = [1 if x >= 0.5 else 0 for x in predictions]"
   ]
  },
  {
   "cell_type": "markdown",
   "metadata": {},
   "source": [
    "## Save Keras models to disk"
   ]
  },
  {
   "cell_type": "code",
   "execution_count": null,
   "metadata": {},
   "outputs": [],
   "source": [
    "# use ResNet50 as an example model\n",
    "from keras.applications import resnet50\n",
    "my_model = resnet50.ResNet50(include_top=True, weights='imagenet')\n",
    "my_model.load_weights('resnet50_weights_tf_dim_ordering_tf_kernels.h5')\n",
    "my_model.compile(loss='categorical_crossentropy', optimizer='rmsprop', metrics=['accuracy'])\n",
    "my_model.fit(X, Y, epochs=30, batch_size=12, verbose=0)\n",
    "scores = my_model.evaluate(X, Y, verbose=0)\n",
    "print(my_model.metrics_names[1], \": \\n\", scores[1]*100)"
   ]
  },
  {
   "cell_type": "markdown",
   "metadata": {},
   "source": [
    "Option 1: Save the **entire** model"
   ]
  },
  {
   "cell_type": "code",
   "execution_count": null,
   "metadata": {
    "collapsed": true
   },
   "outputs": [],
   "source": [
    "from keras.models import model_from_json, load_model\n",
    "import json\n",
    "\n",
    "# save entire model\n",
    "my_model.save('my_model.h5')\n",
    "\n",
    "# load model\n",
    "loaded_model = load_model('my_model.h5')"
   ]
  },
  {
   "cell_type": "markdown",
   "metadata": {},
   "source": [
    "Option 2: Save **Weights + Architecture** to JSON"
   ]
  },
  {
   "cell_type": "code",
   "execution_count": null,
   "metadata": {
    "collapsed": true
   },
   "outputs": [],
   "source": [
    "# save Weights + Architecture\n",
    "my_model.save_weights('my_model_weights.h5')\n",
    "with open('my_model_architecture.json', 'w') as f:\n",
    "    f.write(my_model.to_json())\n",
    "\n",
    "# load Weights + Architecture\n",
    "with open('my_model_architecture.json', 'r') as f:\n",
    "    loaded_model = model_from_json(f.read())\n",
    "loaded_model.load_weights('my_model_weights.h5')"
   ]
  },
  {
   "cell_type": "markdown",
   "metadata": {},
   "source": [
    "Option 3: Save **Weights + Architecture** to YAML"
   ]
  },
  {
   "cell_type": "code",
   "execution_count": null,
   "metadata": {
    "collapsed": true
   },
   "outputs": [],
   "source": [
    "# save Weights + Architecture\n",
    "my_model.save_weights(\"my_model_weights.h5\")\n",
    "with open(\"my_model_architecture.yaml\", \"w\") as f:\n",
    "    f.write(my_model.to_yaml())\n",
    "\n",
    "# load Weights + Architecture\n",
    "with open('my_model_architecture.yaml', 'r') as f:\n",
    "    loaded_model = model_from_yaml(f.read())\n",
    "loaded_model.load_weights('my_model_weights.h5')"
   ]
  },
  {
   "cell_type": "markdown",
   "metadata": {},
   "source": [
    "Evaluate loaded model on test data"
   ]
  },
  {
   "cell_type": "code",
   "execution_count": null,
   "metadata": {
    "collapsed": true
   },
   "outputs": [],
   "source": [
    "loaded_model.compile(loss='binary_crossentropy', optimizer='rmsprop', metrics=['accuracy'])\n",
    "scores = loaded_model.evaluate(X, Y, verbose=0)\n",
    "print(loaded_model.metrics_names[1], ': \\n', scores[1]*100)"
   ]
  }
 ],
 "metadata": {
  "kernelspec": {
   "display_name": "Python 3",
   "language": "python",
   "name": "python3"
  },
  "language_info": {
   "codemirror_mode": {
    "name": "ipython",
    "version": 3
   },
   "file_extension": ".py",
   "mimetype": "text/x-python",
   "name": "python",
   "nbconvert_exporter": "python",
   "pygments_lexer": "ipython3",
   "version": "3.6.7"
  }
 },
 "nbformat": 4,
 "nbformat_minor": 2
}
